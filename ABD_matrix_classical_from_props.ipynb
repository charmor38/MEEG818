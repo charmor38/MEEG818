{
 "cells": [
  {
   "cell_type": "code",
   "execution_count": 1,
   "metadata": {
    "collapsed": true
   },
   "outputs": [],
   "source": [
    "from IPython.display import display\n",
    "\n",
    "import numpy as np\n",
    "import pandas as pd"
   ]
  },
  {
   "cell_type": "markdown",
   "metadata": {},
   "source": [
    "This notebook calculates the ABD matrices from the (4) independent material properties required for orthotropic laminates; E11, E22, nu12, and G12."
   ]
  },
  {
   "cell_type": "code",
   "execution_count": 2,
   "metadata": {
    "collapsed": true
   },
   "outputs": [],
   "source": [
    "E11 = 32.0e6\n",
    "E22 = 20e6\n",
    "G12 = 8.0e6\n",
    "nu12 = 0.35\n",
    "t_lam = 0.007\n",
    "stack = [30]"
   ]
  },
  {
   "cell_type": "code",
   "execution_count": 3,
   "metadata": {
    "collapsed": false
   },
   "outputs": [
    {
     "data": {
      "text/plain": [
       "0.21875"
      ]
     },
     "execution_count": 3,
     "metadata": {},
     "output_type": "execute_result"
    }
   ],
   "source": [
    "nu21 = (nu12*E22)/E11\n",
    "nu21"
   ]
  },
  {
   "cell_type": "code",
   "execution_count": 4,
   "metadata": {
    "collapsed": false
   },
   "outputs": [
    {
     "data": {
      "text/plain": [
       "34653130.28764805"
      ]
     },
     "execution_count": 4,
     "metadata": {},
     "output_type": "execute_result"
    }
   ],
   "source": [
    "Q11 = E11/(1-nu12*nu21)\n",
    "Q11"
   ]
  },
  {
   "cell_type": "code",
   "execution_count": 5,
   "metadata": {
    "collapsed": false
   },
   "outputs": [
    {
     "data": {
      "text/plain": [
       "21658206.429780032"
      ]
     },
     "execution_count": 5,
     "metadata": {},
     "output_type": "execute_result"
    }
   ],
   "source": [
    "Q22 = E22/(1-nu12*nu21)\n",
    "Q22"
   ]
  },
  {
   "cell_type": "code",
   "execution_count": 6,
   "metadata": {
    "collapsed": false
   },
   "outputs": [
    {
     "data": {
      "text/plain": [
       "7580372.250423011"
      ]
     },
     "execution_count": 6,
     "metadata": {},
     "output_type": "execute_result"
    }
   ],
   "source": [
    "Q12 = (nu12*E22)/(1-nu12*nu21)\n",
    "Q12"
   ]
  },
  {
   "cell_type": "code",
   "execution_count": 7,
   "metadata": {
    "collapsed": false
   },
   "outputs": [
    {
     "data": {
      "text/plain": [
       "8000000.0"
      ]
     },
     "execution_count": 7,
     "metadata": {},
     "output_type": "execute_result"
    }
   ],
   "source": [
    "Q66 = G12\n",
    "Q66"
   ]
  },
  {
   "cell_type": "code",
   "execution_count": 8,
   "metadata": {
    "collapsed": false
   },
   "outputs": [
    {
     "data": {
      "text/plain": [
       "0   -0.0035\n",
       "1    0.0035\n",
       "dtype: float64"
      ]
     },
     "execution_count": 8,
     "metadata": {},
     "output_type": "execute_result"
    }
   ],
   "source": [
    "t_total = len(stack)*t_lam\n",
    "h = [(-1)*t_total/2]\n",
    "h0 = h[0]\n",
    "for i in range(len(stack)):\n",
    "    hk = h0+t_lam\n",
    "    h.append(hk)\n",
    "    h0 = hk    \n",
    "h_mat = pd.Series(h)\n",
    "h_mat"
   ]
  },
  {
   "cell_type": "code",
   "execution_count": 9,
   "metadata": {
    "collapsed": false
   },
   "outputs": [
    {
     "data": {
      "text/plain": [
       "0    0.866025\n",
       "dtype: float64"
      ]
     },
     "execution_count": 9,
     "metadata": {},
     "output_type": "execute_result"
    }
   ],
   "source": [
    "m = []\n",
    "for j in stack:\n",
    "    M = np.cos((j*np.pi)/180)\n",
    "    m.append(M)\n",
    "m_mat = pd.Series(m)\n",
    "m_mat"
   ]
  },
  {
   "cell_type": "code",
   "execution_count": 10,
   "metadata": {
    "collapsed": false
   },
   "outputs": [
    {
     "data": {
      "text/plain": [
       "0    0.5\n",
       "dtype: float64"
      ]
     },
     "execution_count": 10,
     "metadata": {},
     "output_type": "execute_result"
    }
   ],
   "source": [
    "n = []\n",
    "for l in stack:\n",
    "    N = np.sin((l*np.pi)/180)\n",
    "    n.append(N)\n",
    "n_mat = pd.Series(n)\n",
    "n_mat"
   ]
  },
  {
   "cell_type": "code",
   "execution_count": 11,
   "metadata": {
    "collapsed": false
   },
   "outputs": [
    {
     "data": {
      "text/html": [
       "<div>\n",
       "<table border=\"1\" class=\"dataframe\">\n",
       "  <thead>\n",
       "    <tr style=\"text-align: right;\">\n",
       "      <th></th>\n",
       "      <th>11</th>\n",
       "      <th>12</th>\n",
       "      <th>16</th>\n",
       "      <th>22</th>\n",
       "      <th>26</th>\n",
       "      <th>66</th>\n",
       "    </tr>\n",
       "  </thead>\n",
       "  <tbody>\n",
       "    <tr>\n",
       "      <th>0</th>\n",
       "      <td>2.968866e+07</td>\n",
       "      <td>9.296108e+06</td>\n",
       "      <td>3.804064e+06</td>\n",
       "      <td>2.319120e+07</td>\n",
       "      <td>1.822903e+06</td>\n",
       "      <td>9.715736e+06</td>\n",
       "    </tr>\n",
       "  </tbody>\n",
       "</table>\n",
       "</div>"
      ],
      "text/plain": [
       "             11            12            16            22            26  \\\n",
       "0  2.968866e+07  9.296108e+06  3.804064e+06  2.319120e+07  1.822903e+06   \n",
       "\n",
       "             66  \n",
       "0  9.715736e+06  "
      ]
     },
     "execution_count": 11,
     "metadata": {},
     "output_type": "execute_result"
    }
   ],
   "source": [
    "Qbar = np.zeros((len(stack),6))\n",
    "for x in range(len(stack)):\n",
    "    #Find Qbars:\n",
    "    qbar11 = Q11*m[x]**4 + 2*(Q12+2*Q66)*m[x]**2*n[x]**2 + Q22*n[x]**4; Qbar[x][0] = qbar11\n",
    "    qbar12 = (Q11+Q22-4*Q66)*m[x]**2*n[x]**2 + Q12*(m[x]**4 + n[x]**4); Qbar[x][1] = qbar12\n",
    "    qbar16 = -m[x]*n[x]**3*Q22 + m[x]**3*n[x]*Q11 - m[x]*n[x]*(m[x]**2-n[x]**2)*(Q12+2*Q66); Qbar[x][2] = qbar16\n",
    "    qbar22 = Q11*n[x]**4 + 2*(Q12+2*Q66)*m[x]**2*n[x]**2 + Q22*m[x]**4; Qbar[x][3] = qbar22\n",
    "    qbar26 = -m[x]**3*n[x]*Q22 + n[x]**3*m[x]*Q11 + m[x]*n[x]*(m[x]**2-n[x]**2)*(Q12+2*Q66); Qbar[x][4] = qbar26\n",
    "    qbar66 = (Q11+Q22-2*Q12)*m[x]**2*n[x]**2+Q66*(m[x]**2 - n[x]**2)**2; Qbar[x][5] = qbar66\n",
    "\n",
    "names=['11', '12', '16', '22', '26', '66']\n",
    "Qbar = pd.DataFrame(Qbar, columns=names)\n",
    "Qbar"
   ]
  },
  {
   "cell_type": "code",
   "execution_count": 12,
   "metadata": {
    "collapsed": false
   },
   "outputs": [
    {
     "data": {
      "text/html": [
       "<div>\n",
       "<table border=\"1\" class=\"dataframe\">\n",
       "  <thead>\n",
       "    <tr style=\"text-align: right;\">\n",
       "      <th></th>\n",
       "      <th>11</th>\n",
       "      <th>12</th>\n",
       "      <th>16</th>\n",
       "      <th>22</th>\n",
       "      <th>26</th>\n",
       "      <th>66</th>\n",
       "    </tr>\n",
       "  </thead>\n",
       "  <tbody>\n",
       "    <tr>\n",
       "      <th>0</th>\n",
       "      <td>207820.642978</td>\n",
       "      <td>65072.758037</td>\n",
       "      <td>26628.449471</td>\n",
       "      <td>162338.409475</td>\n",
       "      <td>12760.320163</td>\n",
       "      <td>68010.152284</td>\n",
       "    </tr>\n",
       "  </tbody>\n",
       "</table>\n",
       "</div>"
      ],
      "text/plain": [
       "              11            12            16             22            26  \\\n",
       "0  207820.642978  65072.758037  26628.449471  162338.409475  12760.320163   \n",
       "\n",
       "             66  \n",
       "0  68010.152284  "
      ]
     },
     "execution_count": 12,
     "metadata": {},
     "output_type": "execute_result"
    }
   ],
   "source": [
    "A_mat = np.zeros((1,6))\n",
    "for a in range(len(names)):\n",
    "    thing = 0\n",
    "    for i in range(len(stack)):\n",
    "        thing += Qbar[names[a]][i]*(h_mat[i+1] - h_mat[i])\n",
    "    A_mat[0][a] = thing\n",
    "        \n",
    "A_mat = pd.DataFrame(A_mat, columns=names)\n",
    "A_mat"
   ]
  },
  {
   "cell_type": "code",
   "execution_count": 13,
   "metadata": {
    "collapsed": false
   },
   "outputs": [
    {
     "data": {
      "text/html": [
       "<div>\n",
       "<table border=\"1\" class=\"dataframe\">\n",
       "  <thead>\n",
       "    <tr style=\"text-align: right;\">\n",
       "      <th></th>\n",
       "      <th>11</th>\n",
       "      <th>12</th>\n",
       "      <th>16</th>\n",
       "      <th>22</th>\n",
       "      <th>26</th>\n",
       "      <th>66</th>\n",
       "    </tr>\n",
       "  </thead>\n",
       "  <tbody>\n",
       "    <tr>\n",
       "      <th>0</th>\n",
       "      <td>0.0</td>\n",
       "      <td>0.0</td>\n",
       "      <td>0.0</td>\n",
       "      <td>0.0</td>\n",
       "      <td>0.0</td>\n",
       "      <td>0.0</td>\n",
       "    </tr>\n",
       "  </tbody>\n",
       "</table>\n",
       "</div>"
      ],
      "text/plain": [
       "    11   12   16   22   26   66\n",
       "0  0.0  0.0  0.0  0.0  0.0  0.0"
      ]
     },
     "execution_count": 13,
     "metadata": {},
     "output_type": "execute_result"
    }
   ],
   "source": [
    "B_mat = np.zeros((1,6))\n",
    "for a in range(len(names)):\n",
    "    thing = 0\n",
    "    for i in range(len(stack)):\n",
    "        thing += .5*(Qbar[names[a]][i]*(h_mat[i+1]**2 - h_mat[i]**2))\n",
    "    B_mat[0][a] = thing\n",
    "        \n",
    "B_mat = pd.DataFrame(B_mat, columns=names)\n",
    "B_mat"
   ]
  },
  {
   "cell_type": "code",
   "execution_count": 14,
   "metadata": {
    "collapsed": false
   },
   "outputs": [
    {
     "data": {
      "text/html": [
       "<div>\n",
       "<table border=\"1\" class=\"dataframe\">\n",
       "  <thead>\n",
       "    <tr style=\"text-align: right;\">\n",
       "      <th></th>\n",
       "      <th>11</th>\n",
       "      <th>12</th>\n",
       "      <th>16</th>\n",
       "      <th>22</th>\n",
       "      <th>26</th>\n",
       "      <th>66</th>\n",
       "    </tr>\n",
       "  </thead>\n",
       "  <tbody>\n",
       "    <tr>\n",
       "      <th>0</th>\n",
       "      <td>0.848601</td>\n",
       "      <td>0.265714</td>\n",
       "      <td>0.108733</td>\n",
       "      <td>0.662882</td>\n",
       "      <td>0.052105</td>\n",
       "      <td>0.277708</td>\n",
       "    </tr>\n",
       "  </tbody>\n",
       "</table>\n",
       "</div>"
      ],
      "text/plain": [
       "         11        12        16        22        26        66\n",
       "0  0.848601  0.265714  0.108733  0.662882  0.052105  0.277708"
      ]
     },
     "execution_count": 14,
     "metadata": {},
     "output_type": "execute_result"
    }
   ],
   "source": [
    "D_mat = np.zeros((1,6))\n",
    "for a in range(len(names)):\n",
    "    thing = 0\n",
    "    for i in range(len(stack)):\n",
    "        thing += (Qbar[names[a]][i]*(h_mat[i+1]**3 - h_mat[i]**3))/3\n",
    "    D_mat[0][a] = thing\n",
    "        \n",
    "D_mat = pd.DataFrame(D_mat, columns=names)\n",
    "D_mat"
   ]
  },
  {
   "cell_type": "code",
   "execution_count": 15,
   "metadata": {
    "collapsed": false
   },
   "outputs": [
    {
     "data": {
      "text/html": [
       "<div>\n",
       "<table border=\"1\" class=\"dataframe\">\n",
       "  <thead>\n",
       "    <tr style=\"text-align: right;\">\n",
       "      <th></th>\n",
       "      <th>11</th>\n",
       "      <th>12</th>\n",
       "      <th>16</th>\n",
       "      <th>22</th>\n",
       "      <th>26</th>\n",
       "      <th>66</th>\n",
       "      <th>hk</th>\n",
       "      <th>Ak</th>\n",
       "    </tr>\n",
       "  </thead>\n",
       "  <tbody>\n",
       "    <tr>\n",
       "      <th>0</th>\n",
       "      <td>2.968866e+07</td>\n",
       "      <td>9.296108e+06</td>\n",
       "      <td>3.804064e+06</td>\n",
       "      <td>2.319120e+07</td>\n",
       "      <td>1.822903e+06</td>\n",
       "      <td>9.715736e+06</td>\n",
       "      <td>0.007</td>\n",
       "      <td>207820.642978</td>\n",
       "    </tr>\n",
       "  </tbody>\n",
       "</table>\n",
       "</div>"
      ],
      "text/plain": [
       "             11            12            16            22            26  \\\n",
       "0  2.968866e+07  9.296108e+06  3.804064e+06  2.319120e+07  1.822903e+06   \n",
       "\n",
       "             66     hk             Ak  \n",
       "0  9.715736e+06  0.007  207820.642978  "
      ]
     },
     "execution_count": 15,
     "metadata": {},
     "output_type": "execute_result"
    }
   ],
   "source": [
    "lams = []\n",
    "for e in range(len(h_mat)-1):\n",
    "    guy = h_mat.iloc[e+1]-h_mat.iloc[e]\n",
    "    lams.append(guy)\n",
    "Qbar['hk']=lams\n",
    "Qbar['Ak']=Qbar['11']*Qbar['hk']\n",
    "Qbar"
   ]
  },
  {
   "cell_type": "code",
   "execution_count": 16,
   "metadata": {
    "collapsed": false
   },
   "outputs": [
    {
     "data": {
      "text/plain": [
       "array([[[ 207820.642978  ],\n",
       "        [  65072.75803723],\n",
       "        [  26628.44947136]],\n",
       "\n",
       "       [[  65072.75803723],\n",
       "        [ 162338.40947547],\n",
       "        [  12760.3201627 ]],\n",
       "\n",
       "       [[  26628.44947136],\n",
       "        [  12760.3201627 ],\n",
       "        [  68010.15228426]]])"
      ]
     },
     "execution_count": 16,
     "metadata": {},
     "output_type": "execute_result"
    }
   ],
   "source": [
    "A = np.array([[A_mat['11'], A_mat['12'], A_mat['16']], [ A_mat['12'], A_mat['22'], A_mat['26']], [A_mat['16'], A_mat['26'], A_mat['66']]])\n",
    "A"
   ]
  },
  {
   "cell_type": "code",
   "execution_count": 17,
   "metadata": {
    "collapsed": false
   },
   "outputs": [
    {
     "data": {
      "text/plain": [
       "array([[[ 0.],\n",
       "        [ 0.],\n",
       "        [ 0.]],\n",
       "\n",
       "       [[ 0.],\n",
       "        [ 0.],\n",
       "        [ 0.]],\n",
       "\n",
       "       [[ 0.],\n",
       "        [ 0.],\n",
       "        [ 0.]]])"
      ]
     },
     "execution_count": 17,
     "metadata": {},
     "output_type": "execute_result"
    }
   ],
   "source": [
    "B = np.array([[B_mat['11'], B_mat['12'], B_mat['16']], [ B_mat['12'], B_mat['22'], B_mat['26']], [B_mat['16'], B_mat['26'], B_mat['66']]])\n",
    "B"
   ]
  },
  {
   "cell_type": "code",
   "execution_count": 18,
   "metadata": {
    "collapsed": false
   },
   "outputs": [
    {
     "data": {
      "text/plain": [
       "array([[[ 0.84860096],\n",
       "        [ 0.26571376],\n",
       "        [ 0.10873284]],\n",
       "\n",
       "       [[ 0.26571376],\n",
       "        [ 0.66288184],\n",
       "        [ 0.05210464]],\n",
       "\n",
       "       [[ 0.10873284],\n",
       "        [ 0.05210464],\n",
       "        [ 0.27770812]]])"
      ]
     },
     "execution_count": 18,
     "metadata": {},
     "output_type": "execute_result"
    }
   ],
   "source": [
    "D = np.array([[D_mat['11'], D_mat['12'], D_mat['16']], [ D_mat['12'], D_mat['22'], D_mat['26']], [D_mat['16'], D_mat['26'], D_mat['66']]])\n",
    "D"
   ]
  }
 ],
 "metadata": {
  "anaconda-cloud": {},
  "kernelspec": {
   "display_name": "Python [myenv]",
   "language": "python",
   "name": "Python [myenv]"
  },
  "language_info": {
   "codemirror_mode": {
    "name": "ipython",
    "version": 2
   },
   "file_extension": ".py",
   "mimetype": "text/x-python",
   "name": "python",
   "nbconvert_exporter": "python",
   "pygments_lexer": "ipython2",
   "version": "2.7.12"
  }
 },
 "nbformat": 4,
 "nbformat_minor": 0
}
