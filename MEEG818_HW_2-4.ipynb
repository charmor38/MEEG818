{
 "cells": [
  {
   "cell_type": "code",
   "execution_count": 29,
   "metadata": {
    "collapsed": false
   },
   "outputs": [],
   "source": [
    "from IPython.display import display\n",
    "\n",
    "from sympy.interactive import printing\n",
    "printing.init_printing(use_latex='mathjax')\n",
    "\n",
    "from __future__ import division\n",
    "from sympy import *\n",
    "\n",
    "x, y, z, h = symbols('x y z h')\n",
    "k, m, n = symbols('k m n', integer=True)"
   ]
  },
  {
   "cell_type": "markdown",
   "metadata": {},
   "source": [
    "Show that the Stress distributions of Section 2.6 satisfy Equations (1.5) and (1.6) where the body forces Fi = 0. Do they satisfy Equations (1.7) with Fz = 0? Do they satisfy Equations (1.7) on the average?"
   ]
  },
  {
   "cell_type": "code",
   "execution_count": 30,
   "metadata": {
    "collapsed": false
   },
   "outputs": [],
   "source": [
    "sigma_xz, sigma_yz, sigma_z = symbols('sigma_xz sigma_yz sigma_z')"
   ]
  },
  {
   "cell_type": "code",
   "execution_count": 31,
   "metadata": {
    "collapsed": false
   },
   "outputs": [],
   "source": [
    "thing = (1/z) * Integral((diff(sigma_xz, x)+diff(sigma_yz, y) + diff(sigma_z, z)), x)"
   ]
  },
  {
   "cell_type": "code",
   "execution_count": 32,
   "metadata": {
    "collapsed": true
   },
   "outputs": [],
   "source": [
    "string = '1/(x-1) + 1/(x+1) + x + 1'"
   ]
  },
  {
   "cell_type": "code",
   "execution_count": 33,
   "metadata": {
    "collapsed": false
   },
   "outputs": [
    {
     "data": {
      "text/latex": [
       "$$x + 1 + \\frac{1}{x + 1} + \\frac{1}{x - 1}$$"
      ],
      "text/plain": [
       "          1       1  \n",
       "x + 1 + ───── + ─────\n",
       "        x + 1   x - 1"
      ]
     },
     "execution_count": 33,
     "metadata": {},
     "output_type": "execute_result"
    }
   ],
   "source": [
    "expr = sympify(string)\n",
    "expr"
   ]
  },
  {
   "cell_type": "code",
   "execution_count": 34,
   "metadata": {
    "collapsed": false
   },
   "outputs": [
    {
     "data": {
      "text/latex": [
       "$$x$$"
      ],
      "text/plain": [
       "x"
      ]
     },
     "execution_count": 34,
     "metadata": {},
     "output_type": "execute_result"
    }
   ],
   "source": [
    "sym, = expr.free_symbols\n",
    "sym"
   ]
  },
  {
   "cell_type": "code",
   "execution_count": 35,
   "metadata": {
    "collapsed": false
   },
   "outputs": [
    {
     "data": {
      "text/latex": [
       "$$\\left\\{x\\right\\}$$"
      ],
      "text/plain": [
       "{x}"
      ]
     },
     "execution_count": 35,
     "metadata": {},
     "output_type": "execute_result"
    }
   ],
   "source": [
    "expr.free_symbols"
   ]
  },
  {
   "cell_type": "code",
   "execution_count": 36,
   "metadata": {
    "collapsed": false
   },
   "outputs": [
    {
     "data": {
      "text/latex": [
       "$$\\frac{1}{x^{2} \\left(x^{2} + 1\\right)}$$"
      ],
      "text/plain": [
       "     1     \n",
       "───────────\n",
       " 2 ⎛ 2    ⎞\n",
       "x ⋅⎝x  + 1⎠"
      ]
     },
     "execution_count": 36,
     "metadata": {},
     "output_type": "execute_result"
    }
   ],
   "source": [
    "f = 1/(x**2*(x**2 + 1))\n",
    "f"
   ]
  },
  {
   "cell_type": "code",
   "execution_count": 37,
   "metadata": {
    "collapsed": false
   },
   "outputs": [
    {
     "data": {
      "text/latex": [
       "$$\\left ( A, \\quad B, \\quad C, \\quad D\\right )$$"
      ],
      "text/plain": [
       "(A, B, C, D)"
      ]
     },
     "execution_count": 37,
     "metadata": {},
     "output_type": "execute_result"
    }
   ],
   "source": [
    "var('A:D')"
   ]
  },
  {
   "cell_type": "code",
   "execution_count": 38,
   "metadata": {
    "collapsed": false
   },
   "outputs": [
    {
     "data": {
      "text/latex": [
       "$$\\left ( \\frac{A}{x}, \\quad \\frac{B}{x^{2}}, \\quad \\frac{C x + D}{x^{2} + 1}\\right )$$"
      ],
      "text/plain": [
       "⎛A  B   C⋅x + D⎞\n",
       "⎜─, ──, ───────⎟\n",
       "⎜x   2    2    ⎟\n",
       "⎝   x    x  + 1⎠"
      ]
     },
     "execution_count": 38,
     "metadata": {},
     "output_type": "execute_result"
    }
   ],
   "source": [
    "p1 = A/x\n",
    "p2 = B/x**2\n",
    "p3 = (C*x + D)/(x**2 + 1)\n",
    "p1, p2, p3"
   ]
  },
  {
   "cell_type": "code",
   "execution_count": 39,
   "metadata": {
    "collapsed": false
   },
   "outputs": [
    {
     "data": {
      "text/latex": [
       "$$\\frac{A}{x} + \\frac{B}{x^{2}} + \\frac{C x + D}{x^{2} + 1}$$"
      ],
      "text/plain": [
       "A   B    C⋅x + D\n",
       "─ + ── + ───────\n",
       "x    2     2    \n",
       "    x     x  + 1"
      ]
     },
     "execution_count": 39,
     "metadata": {},
     "output_type": "execute_result"
    }
   ],
   "source": [
    "h = sum(_)\n",
    "h"
   ]
  },
  {
   "cell_type": "code",
   "execution_count": 40,
   "metadata": {
    "collapsed": false
   },
   "outputs": [
    {
     "data": {
      "text/latex": [
       "$$\\frac{A x \\left(x^{2} + 1\\right) + B \\left(x^{2} + 1\\right) + x^{2} \\left(C x + D\\right)}{x^{2} \\left(x^{2} + 1\\right)}$$"
      ],
      "text/plain": [
       "    ⎛ 2    ⎞     ⎛ 2    ⎞    2          \n",
       "A⋅x⋅⎝x  + 1⎠ + B⋅⎝x  + 1⎠ + x ⋅(C⋅x + D)\n",
       "────────────────────────────────────────\n",
       "               2 ⎛ 2    ⎞               \n",
       "              x ⋅⎝x  + 1⎠               "
      ]
     },
     "execution_count": 40,
     "metadata": {},
     "output_type": "execute_result"
    }
   ],
   "source": [
    "together(h)"
   ]
  },
  {
   "cell_type": "code",
   "execution_count": 41,
   "metadata": {
    "collapsed": false
   },
   "outputs": [
    {
     "data": {
      "text/latex": [
       "$$\\frac{A x + B + x^{3} \\left(A + C\\right) + x^{2} \\left(B + D\\right)}{x^{2} \\left(x^{2} + 1\\right)}$$"
      ],
      "text/plain": [
       "           3            2        \n",
       "A⋅x + B + x ⋅(A + C) + x ⋅(B + D)\n",
       "─────────────────────────────────\n",
       "            2 ⎛ 2    ⎞           \n",
       "           x ⋅⎝x  + 1⎠           "
      ]
     },
     "execution_count": 41,
     "metadata": {},
     "output_type": "execute_result"
    }
   ],
   "source": [
    "factor(_, x)"
   ]
  },
  {
   "cell_type": "code",
   "execution_count": 42,
   "metadata": {
    "collapsed": false
   },
   "outputs": [
    {
     "data": {
      "text/latex": [
       "$$\\frac{A x + B + x^{3} \\left(A + C\\right) + x^{2} \\left(B + D\\right)}{x^{2} \\left(x^{2} + 1\\right)} = \\frac{1}{x^{2} \\left(x^{2} + 1\\right)}$$"
      ],
      "text/plain": [
       "           3            2                      \n",
       "A⋅x + B + x ⋅(A + C) + x ⋅(B + D)        1     \n",
       "───────────────────────────────── = ───────────\n",
       "            2 ⎛ 2    ⎞               2 ⎛ 2    ⎞\n",
       "           x ⋅⎝x  + 1⎠              x ⋅⎝x  + 1⎠"
      ]
     },
     "execution_count": 42,
     "metadata": {},
     "output_type": "execute_result"
    }
   ],
   "source": [
    "Eq(_, f)"
   ]
  },
  {
   "cell_type": "code",
   "execution_count": 43,
   "metadata": {
    "collapsed": false
   },
   "outputs": [
    {
     "data": {
      "text/latex": [
       "$$A x + B + x^{3} \\left(A + C\\right) + x^{2} \\left(B + D\\right) = 1$$"
      ],
      "text/plain": [
       "           3            2            \n",
       "A⋅x + B + x ⋅(A + C) + x ⋅(B + D) = 1"
      ]
     },
     "execution_count": 43,
     "metadata": {},
     "output_type": "execute_result"
    }
   ],
   "source": [
    "eq = Eq(numer(_.lhs), numer(_.rhs))\n",
    "eq"
   ]
  },
  {
   "cell_type": "code",
   "execution_count": 44,
   "metadata": {
    "collapsed": false
   },
   "outputs": [
    {
     "data": {
      "text/latex": [
       "$$\\left \\{ A : 0, \\quad B : 1, \\quad C : 0, \\quad D : -1\\right \\}$$"
      ],
      "text/plain": [
       "{A: 0, B: 1, C: 0, D: -1}"
      ]
     },
     "execution_count": 44,
     "metadata": {},
     "output_type": "execute_result"
    }
   ],
   "source": [
    "solve_undetermined_coeffs(eq, [A, B, C, D], x)"
   ]
  },
  {
   "cell_type": "code",
   "execution_count": 45,
   "metadata": {
    "collapsed": false
   },
   "outputs": [
    {
     "data": {
      "text/plain": [
       "'1.2'"
      ]
     },
     "execution_count": 45,
     "metadata": {},
     "output_type": "execute_result"
    }
   ],
   "source": [
    "import sympy as sym\n",
    "sym.__version__"
   ]
  },
  {
   "cell_type": "markdown",
   "metadata": {},
   "source": [
    "Start 2.4 below:"
   ]
  },
  {
   "cell_type": "code",
   "execution_count": 46,
   "metadata": {
    "collapsed": true
   },
   "outputs": [],
   "source": [
    "x, y, z, h, tau = symbols('x y z h tau')\n",
    "k, m, n = symbols('k m n', integer=True)"
   ]
  },
  {
   "cell_type": "code",
   "execution_count": 47,
   "metadata": {
    "collapsed": false
   },
   "outputs": [],
   "source": [
    "Mx = Function('M_x')(x)\n",
    "My = Function('M_y')(y)\n",
    "Mxy = Function('M_xy')(x, y)\n",
    "Nx = Function('N_x')(x)\n",
    "Ny = Function('N_y')(y)\n",
    "Nxy = Function('N_xy')(x, y)\n",
    "Qx = Function('Q_x')(x)\n",
    "Sx = Function('S_x')(tau)"
   ]
  },
  {
   "cell_type": "code",
   "execution_count": 48,
   "metadata": {
    "collapsed": false,
    "scrolled": true
   },
   "outputs": [
    {
     "data": {
      "text/latex": [
       "$$\\frac{\\operatorname{N_{x}}{\\left (x \\right )}}{h} + \\frac{12 z \\operatorname{M_{x}}{\\left (x \\right )}}{h^{3}}$$"
      ],
      "text/plain": [
       "Nₓ(x)   12⋅z⋅Mₓ(x)\n",
       "───── + ──────────\n",
       "  h          3    \n",
       "            h     "
      ]
     },
     "execution_count": 48,
     "metadata": {},
     "output_type": "execute_result"
    }
   ],
   "source": [
    "sig_x = (Mx*z)/(h**3/12) + Nx/h\n",
    "sig_x"
   ]
  },
  {
   "cell_type": "code",
   "execution_count": 49,
   "metadata": {
    "collapsed": false
   },
   "outputs": [
    {
     "data": {
      "text/latex": [
       "$$\\frac{\\operatorname{N_{xy}}{\\left (x,y \\right )}}{h} + \\frac{12 z \\operatorname{M_{xy}}{\\left (x,y \\right )}}{h^{3}}$$"
      ],
      "text/plain": [
       "N_xy(x, y)   12⋅z⋅M_xy(x, y)\n",
       "────────── + ───────────────\n",
       "    h                3      \n",
       "                    h       "
      ]
     },
     "execution_count": 49,
     "metadata": {},
     "output_type": "execute_result"
    }
   ],
   "source": [
    "sig_yx = (Mxy*z)/(h**3/12) + Nxy/h\n",
    "sig_yx"
   ]
  },
  {
   "cell_type": "code",
   "execution_count": 52,
   "metadata": {
    "collapsed": false
   },
   "outputs": [
    {
     "data": {
      "text/latex": [
       "$$- \\frac{\\operatorname{S_{x}}{\\left (\\tau \\right )}}{4} + \\frac{3 \\left(1 - \\frac{z^{2}}{4 h^{2}}\\right) \\operatorname{Q_{x}}{\\left (x \\right )}}{2 h}$$"
      ],
      "text/plain": [
       "            ⎛      2 ⎞      \n",
       "            ⎜     z  ⎟      \n",
       "          3⋅⎜1 - ────⎟⋅Qₓ(x)\n",
       "            ⎜       2⎟      \n",
       "  Sₓ(τ)     ⎝    4⋅h ⎠      \n",
       "- ───── + ──────────────────\n",
       "    4            2⋅h        "
      ]
     },
     "execution_count": 52,
     "metadata": {},
     "output_type": "execute_result"
    }
   ],
   "source": [
    "sig_zx = (3*Qx/(2*h))*(1-(z/h/2)**2)-Sx/4\n",
    "sig_zx"
   ]
  },
  {
   "cell_type": "code",
   "execution_count": 54,
   "metadata": {
    "collapsed": false
   },
   "outputs": [
    {
     "data": {
      "text/latex": [
       "$$\\frac{\\partial}{\\partial x} \\left(\\frac{\\operatorname{N_{x}}{\\left (x \\right )}}{h} + \\frac{12 z \\operatorname{M_{x}}{\\left (x \\right )}}{h^{3}}\\right)$$"
      ],
      "text/plain": [
       "∂ ⎛Nₓ(x)   12⋅z⋅Mₓ(x)⎞\n",
       "──⎜───── + ──────────⎟\n",
       "∂x⎜  h          3    ⎟\n",
       "  ⎝            h     ⎠"
      ]
     },
     "execution_count": 54,
     "metadata": {},
     "output_type": "execute_result"
    }
   ],
   "source": [
    "Derivative((sig_x), x)"
   ]
  },
  {
   "cell_type": "code",
   "execution_count": 56,
   "metadata": {
    "collapsed": false
   },
   "outputs": [
    {
     "data": {
      "text/latex": [
       "$$\\frac{\\partial}{\\partial y} \\left(\\frac{\\operatorname{N_{xy}}{\\left (x,y \\right )}}{h} + \\frac{12 z \\operatorname{M_{xy}}{\\left (x,y \\right )}}{h^{3}}\\right)$$"
      ],
      "text/plain": [
       "∂ ⎛N_xy(x, y)   12⋅z⋅M_xy(x, y)⎞\n",
       "──⎜────────── + ───────────────⎟\n",
       "∂y⎜    h                3      ⎟\n",
       "  ⎝                    h       ⎠"
      ]
     },
     "execution_count": 56,
     "metadata": {},
     "output_type": "execute_result"
    }
   ],
   "source": [
    "Derivative((sig_yx), y)"
   ]
  },
  {
   "cell_type": "code",
   "execution_count": 58,
   "metadata": {
    "collapsed": false
   },
   "outputs": [
    {
     "data": {
      "text/latex": [
       "$$\\frac{\\partial}{\\partial z} \\left(- \\frac{\\operatorname{S_{x}}{\\left (\\tau \\right )}}{4} + \\frac{3 \\left(1 - \\frac{z^{2}}{4 h^{2}}\\right) \\operatorname{Q_{x}}{\\left (x \\right )}}{2 h}\\right)$$"
      ],
      "text/plain": [
       "  ⎛            ⎛      2 ⎞      ⎞\n",
       "  ⎜            ⎜     z  ⎟      ⎟\n",
       "  ⎜          3⋅⎜1 - ────⎟⋅Qₓ(x)⎟\n",
       "  ⎜            ⎜       2⎟      ⎟\n",
       "∂ ⎜  Sₓ(τ)     ⎝    4⋅h ⎠      ⎟\n",
       "──⎜- ───── + ──────────────────⎟\n",
       "∂z⎝    4            2⋅h        ⎠"
      ]
     },
     "execution_count": 58,
     "metadata": {},
     "output_type": "execute_result"
    }
   ],
   "source": [
    "Derivative((sig_zx), z)"
   ]
  },
  {
   "cell_type": "code",
   "execution_count": 55,
   "metadata": {
    "collapsed": false
   },
   "outputs": [
    {
     "data": {
      "text/latex": [
       "$$\\frac{\\frac{d}{d x} \\operatorname{N_{x}}{\\left (x \\right )}}{h} + \\frac{12 z \\frac{d}{d x} \\operatorname{M_{x}}{\\left (x \\right )}}{h^{3}}$$"
      ],
      "text/plain": [
       "d                d        \n",
       "──(Nₓ(x))   12⋅z⋅──(Mₓ(x))\n",
       "dx               dx       \n",
       "───────── + ──────────────\n",
       "    h              3      \n",
       "                  h       "
      ]
     },
     "execution_count": 55,
     "metadata": {},
     "output_type": "execute_result"
    }
   ],
   "source": [
    "Derivative((sig_x), x).doit()"
   ]
  },
  {
   "cell_type": "code",
   "execution_count": 57,
   "metadata": {
    "collapsed": false
   },
   "outputs": [
    {
     "data": {
      "text/latex": [
       "$$\\frac{\\frac{\\partial}{\\partial y} \\operatorname{N_{xy}}{\\left (x,y \\right )}}{h} + \\frac{12 z \\frac{\\partial}{\\partial y} \\operatorname{M_{xy}}{\\left (x,y \\right )}}{h^{3}}$$"
      ],
      "text/plain": [
       "∂                     ∂             \n",
       "──(N_xy(x, y))   12⋅z⋅──(M_xy(x, y))\n",
       "∂y                    ∂y            \n",
       "────────────── + ───────────────────\n",
       "      h                    3        \n",
       "                          h         "
      ]
     },
     "execution_count": 57,
     "metadata": {},
     "output_type": "execute_result"
    }
   ],
   "source": [
    "Derivative((sig_yx), y).doit()"
   ]
  },
  {
   "cell_type": "code",
   "execution_count": 60,
   "metadata": {
    "collapsed": false
   },
   "outputs": [
    {
     "data": {
      "text/latex": [
       "$$- \\frac{3 z \\operatorname{Q_{x}}{\\left (x \\right )}}{4 h^{3}}$$"
      ],
      "text/plain": [
       "-3⋅z⋅Qₓ(x) \n",
       "───────────\n",
       "       3   \n",
       "    4⋅h    "
      ]
     },
     "execution_count": 60,
     "metadata": {},
     "output_type": "execute_result"
    }
   ],
   "source": [
    "Derivative((sig_zx), z).doit()"
   ]
  },
  {
   "cell_type": "markdown",
   "metadata": {},
   "source": [
    "We see below, the partial derivative of Nx with respect to x = 0"
   ]
  },
  {
   "cell_type": "code",
   "execution_count": 73,
   "metadata": {
    "collapsed": false
   },
   "outputs": [
    {
     "data": {
      "text/latex": [
       "$$k \\left(\\nu \\frac{d}{d y} v_{0} + \\frac{d}{d x} u_{0}\\right)$$"
      ],
      "text/plain": [
       "  ⎛  d        d     ⎞\n",
       "k⋅⎜ν⋅──(v₀) + ──(u₀)⎟\n",
       "  ⎝  dy       dx    ⎠"
      ]
     },
     "execution_count": 73,
     "metadata": {},
     "output_type": "execute_result"
    }
   ],
   "source": [
    "u0, v0, w, nu = symbols('u_0 v_0 w nu')\n",
    "enex = k*(Derivative(u0, x)+nu*Derivative(v0, y))\n",
    "enex"
   ]
  },
  {
   "cell_type": "code",
   "execution_count": 74,
   "metadata": {
    "collapsed": false
   },
   "outputs": [
    {
     "data": {
      "text/latex": [
       "$$0$$"
      ],
      "text/plain": [
       "0"
      ]
     },
     "execution_count": 74,
     "metadata": {},
     "output_type": "execute_result"
    }
   ],
   "source": [
    "enex = k*(Derivative(u0, x)+nu*Derivative(v0, y)).doit()\n",
    "enex"
   ]
  },
  {
   "cell_type": "markdown",
   "metadata": {},
   "source": [
    "Similarly, the partial derivative of Mx with respect to x = 0"
   ]
  },
  {
   "cell_type": "code",
   "execution_count": 70,
   "metadata": {
    "collapsed": false
   },
   "outputs": [
    {
     "data": {
      "text/latex": [
       "$$D \\left(\\nu \\frac{d^{2}}{d y^{2}} w + \\frac{d^{2}}{d x^{2}} w\\right)$$"
      ],
      "text/plain": [
       "  ⎛    2        2   ⎞\n",
       "  ⎜   d        d    ⎟\n",
       "D⋅⎜ν⋅───(w) + ───(w)⎟\n",
       "  ⎜    2        2   ⎟\n",
       "  ⎝  dy       dx    ⎠"
      ]
     },
     "execution_count": 70,
     "metadata": {},
     "output_type": "execute_result"
    }
   ],
   "source": [
    "D = symbols('D')\n",
    "emex = D*(Derivative(w, x, x)+nu*Derivative(w, y, y))\n",
    "emex"
   ]
  },
  {
   "cell_type": "code",
   "execution_count": 72,
   "metadata": {
    "collapsed": false
   },
   "outputs": [
    {
     "data": {
      "text/latex": [
       "$$0$$"
      ],
      "text/plain": [
       "0"
      ]
     },
     "execution_count": 72,
     "metadata": {},
     "output_type": "execute_result"
    }
   ],
   "source": [
    "emex = D*(Derivative(w, x, x)+nu*Derivative(w, y, y)).doit()\n",
    "emex"
   ]
  },
  {
   "cell_type": "code",
   "execution_count": 69,
   "metadata": {
    "collapsed": false
   },
   "outputs": [
    {
     "data": {
      "text/latex": [
       "$$\\frac{\\partial}{\\partial x} \\frac{\\operatorname{N_{x}}{\\left (x \\right )}}{h}$$"
      ],
      "text/plain": [
       "∂ ⎛Nₓ(x)⎞\n",
       "──⎜─────⎟\n",
       "∂x⎝  h  ⎠"
      ]
     },
     "execution_count": 69,
     "metadata": {},
     "output_type": "execute_result"
    }
   ],
   "source": [
    "Derivative((sig_x), x).subs(Mx, emex)"
   ]
  }
 ],
 "metadata": {
  "anaconda-cloud": {},
  "kernelspec": {
   "display_name": "Python [myenv]",
   "language": "python",
   "name": "Python [myenv]"
  },
  "language_info": {
   "codemirror_mode": {
    "name": "ipython",
    "version": 2
   },
   "file_extension": ".py",
   "mimetype": "text/x-python",
   "name": "python",
   "nbconvert_exporter": "python",
   "pygments_lexer": "ipython2",
   "version": "2.7.12"
  }
 },
 "nbformat": 4,
 "nbformat_minor": 0
}
